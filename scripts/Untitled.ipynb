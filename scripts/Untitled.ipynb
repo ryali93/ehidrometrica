{
 "cells": [
  {
   "cell_type": "code",
   "execution_count": 89,
   "metadata": {},
   "outputs": [],
   "source": [
    "# %load main_matrix.py\n",
    "#!/usr/bin/env python\n",
    "\n",
    "from _karasiev import *\n",
    "from ehidropy import *\n",
    "\n",
    "# Variables globales\n",
    "BUDYKO_FIELD = 'Q_Budyko'\n",
    "ID_FIELD = 'HYBAS_ID'\n",
    "EPSG = 32717\n",
    "\n",
    "ksv = Karasiev()\n",
    "ksv.set_epsg(EPSG)\n",
    "\n",
    "data_mx_absolute_difference = ksv.get_data_mx_absolute_difference(ID_FIELD, BUDYKO_FIELD)\n",
    "matrix_da = make_matrix(data_mx_absolute_difference, ksv.mx_absolute_difference) # ehidropy\n",
    "\n",
    "data_mx_distance = ksv.get_data_mx_distance(ID_FIELD, 'SHAPE@')\n",
    "matrix_di = make_matrix(data_mx_distance, ksv.mx_distance) # ehidropy.\n",
    "\n",
    "matrix_gr = ksv.mx_gradient(matrix_da, matrix_di)\n",
    "matrix_co = ksv.mx_correlation(matrix_gr)\n",
    "matrix_si = ksv.mx_significance(matrix_co, 20)"
   ]
  },
  {
   "cell_type": "code",
   "execution_count": 98,
   "metadata": {},
   "outputs": [],
   "source": [
    "def matrix(mx):\n",
    "    tmp = [v.tolist()[index:] for index, (i, v) in enumerate(mx.iterrows(), 1)]\n",
    "    res = [y for x in tmp for y in x] \n",
    "    return res"
   ]
  },
  {
   "cell_type": "code",
   "execution_count": 107,
   "metadata": {},
   "outputs": [],
   "source": [
    "d = dict()\n",
    "d['gr'] = matrix(matrix_gr)\n",
    "d['si'] = matrix(matrix_si)\n",
    "d['co'] = matrix(matrix_co)\n",
    "\n",
    "df = pd.DataFrame(d)\n",
    "df.to_csv(os.path.join(MATRIX_DIR, 'matrix_dc.csv'))"
   ]
  },
  {
   "cell_type": "code",
   "execution_count": 109,
   "metadata": {},
   "outputs": [
    {
     "name": "stdout",
     "output_type": "stream",
     "text": [
      "            co        gr        si\n",
      "0     0.980166  4.832349  0.026490\n",
      "1     0.814514  2.320805  0.227008\n",
      "2     0.858036  1.487427  0.177911\n",
      "3     0.223214  3.046485  0.640877\n",
      "4     0.386600  2.078115  0.573675\n",
      "5     0.896791  0.784376  0.132041\n",
      "6     0.682458  0.302584  0.360343\n",
      "7     0.872632  0.335408  0.160873\n",
      "8    -0.183906  8.975399  0.651670\n",
      "9     0.825791  0.595552  0.214532\n",
      "10    0.709573  0.159066  0.334884\n",
      "11    0.712059  0.151603  0.332501\n",
      "12    0.509197  1.785856  0.499601\n",
      "13    0.810749  0.508966  0.231136\n",
      "14    0.721599  0.070263  0.323276\n",
      "15    0.843062  0.282994  0.195092\n",
      "16    0.215384  2.699607  0.643193\n",
      "17    0.855660  0.364248  0.180657\n",
      "18    0.895223  0.219243  0.133935\n",
      "19    0.904902  0.058357  0.122184\n",
      "20    0.828314  0.035067  0.211717\n",
      "21    0.819074  0.056886  0.221984\n",
      "22    0.800175  0.180346  0.242624\n",
      "23    0.745598  0.225495  0.299527\n",
      "24    0.671413  0.299159  0.370429\n",
      "25    0.552775  0.859133  0.468387\n",
      "26    0.732758  0.133659  0.312329\n",
      "27    0.770958  0.580849  0.273587\n",
      "28    0.704011  0.610303  0.340188\n",
      "29    0.667331  0.027277  0.374115\n",
      "...        ...       ...       ...\n",
      "8226  0.805587  0.133004  0.236763\n",
      "8227  0.804937  0.635972  0.237469\n",
      "8228  0.752658  9.186942  0.292392\n",
      "8229  0.554149  1.646471  0.467361\n",
      "8230  0.500870  0.385891  0.505275\n",
      "8231  0.462897  2.970080  0.529958\n",
      "8232  0.426101  2.730613  0.552022\n",
      "8233  0.364719  2.741727  0.584763\n",
      "8234  0.374881  1.921356  0.579693\n",
      "8235  0.880823  3.385553  0.151186\n",
      "8236  0.784456  7.465606  0.259425\n",
      "8237  0.868149  0.380051  0.166136\n",
      "8238  0.828936  0.411804  0.211022\n",
      "8239  0.754311  0.696948  0.290712\n",
      "8240  0.760743  0.236495  0.284139\n",
      "8241  0.967719  9.257318  0.042843\n",
      "8242  0.959162  5.358200  0.053964\n",
      "8243  0.944552  4.094128  0.072723\n",
      "8244  0.904391  3.465296  0.122808\n",
      "8245  0.911758  1.670039  0.113783\n",
      "8246  0.916511  7.919708  0.107922\n",
      "8247  0.909044  6.561929  0.117116\n",
      "8248  0.881855  5.815695  0.149959\n",
      "8249  0.894566  3.638648  0.134729\n",
      "8250  0.995711  0.412638  0.005773\n",
      "8251  0.968088  0.891287  0.042362\n",
      "8252  0.957320  0.806386  0.056345\n",
      "8253  0.984990  1.096921  0.020096\n",
      "8254  0.966546  1.077842  0.044373\n",
      "8255  0.957338  3.041618  0.056322\n",
      "\n",
      "[8256 rows x 3 columns]\n"
     ]
    }
   ],
   "source": [
    "print df"
   ]
  },
  {
   "cell_type": "code",
   "execution_count": null,
   "metadata": {},
   "outputs": [],
   "source": [
    ""
   ]
  }
 ],
 "metadata": {
  "kernelspec": {
   "display_name": "Python 2",
   "language": "python",
   "name": "python2"
  },
  "language_info": {
   "codemirror_mode": {
    "name": "ipython",
    "version": 2.0
   },
   "file_extension": ".py",
   "mimetype": "text/x-python",
   "name": "python",
   "nbconvert_exporter": "python",
   "pygments_lexer": "ipython2",
   "version": "2.7.10"
  }
 },
 "nbformat": 4,
 "nbformat_minor": 0
}