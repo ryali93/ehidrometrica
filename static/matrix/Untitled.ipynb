{
 "cells": [
  {
   "cell_type": "code",
   "execution_count": 1,
   "metadata": {},
   "outputs": [],
   "source": [
    "%matplotlib inline\n",
    "import matplotlib.pyplot as plt\n",
    "import os\n",
    "import numpy as np\n",
    "from matplotlib import pylab\n",
    "import pandas as pd\n",
    "from shapely.geometry import LineString"
   ]
  },
  {
   "cell_type": "code",
   "execution_count": 2,
   "metadata": {},
   "outputs": [],
   "source": [
    "def get_coords_polynomial(*args):\n",
    "    z = np.polyfit(args[0], args[-1], 3)\n",
    "    f = np.poly1d(z)\n",
    "    x = np.linspace(args[0].min(), args[0].max())\n",
    "    y = f(x)\n",
    "    return x, y\n",
    "\n",
    "def get_intersect(*args):\n",
    "    a = LineString(args[0])\n",
    "    b = LineString(args[-1])\n",
    "    coord = a.intersection(b)\n",
    "    return coord"
   ]
  },
  {
   "cell_type": "code",
   "execution_count": 5,
   "metadata": {
    "scrolled": false
   },
   "outputs": [
    {
     "data": {
      "image/png": "[encoded data removed]",
      "text/plain": [
       "<Figure size 720x720 with 2 Axes>"
      ]
     },
     "metadata": {},
     "output_type": "display_data"
    }
   ],
   "source": [
    "csvs = [i for i in os.listdir('.') if 'rc' in i and 'csv' in i and '1376' in i]\n",
    "\n",
    "# print get_intersect()\n",
    "\n",
    "# raise\n",
    "\n",
    "for csv in csvs:\n",
    "    df = pd.read_csv(csv)\n",
    "    \n",
    "    fig = csv.split('.')[0] + '.png'\n",
    "    \n",
    "    plt.figure(figsize=(10,10))\n",
    "    \n",
    "    x_a, y_a = get_coords_polynomial(df['mx_di'], df['mx_co'])\n",
    "    x_b, y_b = get_coords_polynomial(df['mx_di'], df['mx_si'])\n",
    "    \n",
    "    line_a = zip(x_a, y_a)\n",
    "    line_b = zip(x_b, y_b)\n",
    "    \n",
    "    try:\n",
    "        coord = get_intersect(line_a, line_b)\n",
    "    except:\n",
    "        coord = None\n",
    "\n",
    "    if 'MULTIPOINT' in coord.__str__():\n",
    "        m = [i for i in coord]\n",
    "        m.sort(key=lambda p: p.x)\n",
    "        coord = m[0]\n",
    "    \n",
    "    plt.subplot(2, 2, 1)\n",
    "    plt.title('%s' % csv.split('.')[0])\n",
    "    \n",
    "    try:\n",
    "        plt.text(coord.x, coord.y, 'lo: %s' % round(coord.x, 4))\n",
    "    except:\n",
    "        pass\n",
    "    \n",
    "    plt.xlabel('Distancia')\n",
    "    a = plt.scatter(df['mx_di'], df['mx_co'])\n",
    "    b = plt.scatter(df['mx_di'], df['mx_si'])\n",
    "    \n",
    "    plt.plot(x_a, y_a)\n",
    "    plt.plot(x_b, y_b)\n",
    "    \n",
    "    plt.legend([a, b], ['corr', 'sign'], fontsize=8)\n",
    "\n",
    "    x_c, y_c = get_coords_polynomial(df['mx_gr'], df['mx_co'])\n",
    "    x_d, y_d = get_coords_polynomial(df['mx_gr'], df['mx_si'])\n",
    "    \n",
    "    line_c = zip(x_c, y_c)\n",
    "    line_d = zip(x_d, y_d)\n",
    "    \n",
    "    try:\n",
    "        coord = get_intersect(line_c, line_d)\n",
    "    except:\n",
    "        coord = None\n",
    "    \n",
    "    if 'MULTIPOINT' in coord.__str__():\n",
    "        m = [i for i in coord]\n",
    "        m.sort(key=lambda p: p.x)\n",
    "        coord = m[0]\n",
    "    \n",
    "    plt.subplot(2, 2, 2)\n",
    "    plt.xlabel('Gradiente')\n",
    "    try:\n",
    "        plt.text(coord.x, coord.y, 'lo: %s' % round(coord.x, 4))\n",
    "    except:\n",
    "        pass\n",
    "    plt.legend([a, b], ['corr', 'sign'], fontsize=8)\n",
    "    plt.scatter(df['mx_gr'], df['mx_co'])\n",
    "    plt.scatter(df['mx_gr'], df['mx_si'])\n",
    "    \n",
    "    plt.plot(x_c, y_c)\n",
    "    plt.plot(x_d, y_d)\n",
    "  \n",
    "    plt.savefig(fig)\n",
    "    plt.show()\n",
    "#     break"
   ]
  },
  {
   "cell_type": "code",
   "execution_count": null,
   "metadata": {},
   "outputs": [],
   "source": []
  },
  {
   "cell_type": "code",
   "execution_count": null,
   "metadata": {},
   "outputs": [],
   "source": []
  }
 ],
 "metadata": {
  "kernelspec": {
   "display_name": "Python 2",
   "language": "python",
   "name": "python2"
  },
  "language_info": {
   "codemirror_mode": {
    "name": "ipython",
    "version": 2
   },
   "file_extension": ".py",
   "mimetype": "text/x-python",
   "name": "python",
   "nbconvert_exporter": "python",
   "pygments_lexer": "ipython2",
   "version": "2.7.10"
  }
 },
 "nbformat": 4,
 "nbformat_minor": 2
}
