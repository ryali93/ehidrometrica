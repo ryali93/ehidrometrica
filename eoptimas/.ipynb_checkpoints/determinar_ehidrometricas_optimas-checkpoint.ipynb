{
 "cells": [
  {
   "cell_type": "markdown",
   "metadata": {},
   "source": [
    "# ESTACIONES HIDROMÉTRICAS OPTIMAS"
   ]
  },
  {
   "cell_type": "code",
   "execution_count": 3,
   "metadata": {},
   "outputs": [
    {
     "data": {
      "text/html": [
       "<style>\n",
       ".output {\n",
       "    flex-direction: column;\n",
       "}\n",
       "</style>"
      ],
      "text/plain": [
       "<IPython.core.display.HTML object>"
      ]
     },
     "execution_count": 3,
     "metadata": {},
     "output_type": "execute_result"
    }
   ],
   "source": [
    "from __future__ import print_function\n",
    "import arcpy\n",
    "from itertools import combinations\n",
    "import numpy as np\n",
    "import pandas as pd\n",
    "from IPython.display import display, HTML\n",
    "\n",
    "CSS = \"\"\"\n",
    ".output {\n",
    "    flex-direction: column;\n",
    "}\n",
    "\"\"\"\n",
    "\n",
    "HTML('<style>{}</style>'.format(CSS))"
   ]
  },
  {
   "cell_type": "markdown",
   "metadata": {},
   "source": [
    "Se define el archivo shapefile que contiene a als estaciones hidrometricas"
   ]
  },
  {
   "cell_type": "code",
   "execution_count": 4,
   "metadata": {},
   "outputs": [],
   "source": [
    "ehidrometricas = r'D:\\SENAMHI\\ehidrometrica\\ehidrometrica\\static\\ehidrometrica.gdb\\EH_GPT_EstacionHidrometrica_v7'"
   ]
  },
  {
   "cell_type": "markdown",
   "metadata": {},
   "source": [
    "Se definen los nombres de los campos del shapefile de Estaciones Hidrométricas que seran utilizados durante el proceso"
   ]
  },
  {
   "cell_type": "code",
   "execution_count": 5,
   "metadata": {},
   "outputs": [],
   "source": [
    "_L_OPT = \"L_OPT\"         # Longitud optima definida por la metodologia de Karasiev\n",
    "_IDRC = \"IDRC\"           # Identificador de las region-cuenca\n",
    "_EHIDROID = \"EHIDROID\"   # Identificador de cada estacion hidrometrica"
   ]
  },
  {
   "cell_type": "markdown",
   "metadata": {},
   "source": [
    "Se obtienen e data frame donde se optiene la longitud optima"
   ]
  },
  {
   "cell_type": "code",
   "execution_count": 8,
   "metadata": {},
   "outputs": [],
   "source": [
    "loptima = pd.read_csv('estaciones_optimas.csv')\n",
    "\n",
    "_LOPT = 'lopt'\n",
    "_IDCR = 'idcr'\n",
    "\n",
    "def get_longitud_optima(idrc):\n",
    "    response = loptima[loptima[_IDCR]==idrc][_LOPT]\n",
    "    return response.iloc[0]"
   ]
  },
  {
   "cell_type": "code",
   "execution_count": null,
   "metadata": {},
   "outputs": [],
   "source": [
    "loptima.head()"
   ]
  },
  {
   "cell_type": "markdown",
   "metadata": {},
   "source": [
    "Se obtienen todos los IDRC"
   ]
  },
  {
   "cell_type": "code",
   "execution_count": 11,
   "metadata": {},
   "outputs": [],
   "source": [
    "all_idrc = list(set([i[0] for i in arcpy.da.SearchCursor(ehidrometricas, [_IDRC])]))"
   ]
  },
  {
   "cell_type": "markdown",
   "metadata": {},
   "source": [
    "Definiendo variables globales para el proceso"
   ]
  },
  {
   "cell_type": "code",
   "execution_count": 12,
   "metadata": {},
   "outputs": [],
   "source": [
    "aceptados = list()\n",
    "result = list()\n",
    "longitud_optima = float()\n",
    "primer_filtro = list()\n",
    "factor = 1"
   ]
  },
  {
   "cell_type": "markdown",
   "metadata": {},
   "source": [
    "Definicion de funciones para el proceso"
   ]
  },
  {
   "cell_type": "code",
   "execution_count": 13,
   "metadata": {},
   "outputs": [],
   "source": [
    "def evaluador(*args):\n",
    "    \"\"\"\n",
    "    Determina aquellas estaciones hidrometricas de un IDRC que se encuentran \n",
    "    separadas a una mayor o igual distancia_optima\n",
    "    \"\"\"\n",
    "    global longitud_optima\n",
    "    global factor\n",
    "    a, b = args[0]\n",
    "    d = a[-1].distanceTo(b[-1])/1000\n",
    "    if d >= longitud_optima*factor:\n",
    "        return [a[0], b[0], d]\n",
    "    else:\n",
    "        return False\n",
    "\n",
    "\n",
    "def buscar_optimos(*args):\n",
    "    \"\"\"\n",
    "    Determina todas las soluciones posibles de agrupacion entre estaciones hidrometricas\n",
    "    que se encuentran separadas a una mayor o igual distancia_optima\n",
    "    \"\"\"\n",
    "    global aceptados\n",
    "    global longitud_optima\n",
    "    global primer_filtro\n",
    "    ini, fin, dist = args\n",
    "    for n in filter(lambda x: sorted(x) != sorted(list(args)), primer_filtro):\n",
    "        if fin in n:\n",
    "            ini_tmp = n[1] if n.index(fin) else n[0]\n",
    "            fin_tmp = n[0] if n.index(fin) else n[1]\n",
    "            if fin_tmp in list(set([q for x in aceptados for q in x[:2]])):\n",
    "                continue\n",
    "            dist_tmp = n[-1]\n",
    "            controlador = 1\n",
    "            for p in list(set([q for x in aceptados for q in x[:2]])):\n",
    "                val = [l for l in primer_filtro if p in l and fin_tmp in l]\n",
    "                if not val:\n",
    "                    controlador = 0\n",
    "                    break\n",
    "            if controlador:\n",
    "                aceptados.append(n)\n",
    "                buscar_optimos(ini_tmp, fin_tmp, dist_tmp)   # recursividad\n",
    "\n",
    "                \n",
    "def get_estaciones_optimas(idrc):\n",
    "    \"\"\"\n",
    "    Realiza la evaluacion de un IDRC para determinar la mejor solucion\n",
    "    \"\"\"\n",
    "    try:\n",
    "        global result\n",
    "        global longitud_optima\n",
    "        global soluciones\n",
    "        global primer_filtro\n",
    "        global aceptados\n",
    "        print('Evaluando: {}'.format(idrc))\n",
    "\n",
    "        query = \"{} = '{}'\".format(_IDRC, idrc)\n",
    "        src = arcpy.SpatialReference(32718)\n",
    "        geom = [i for i in arcpy.da.SearchCursor(ehidrometricas, [_EHIDROID, \"SHAPE@\", _L_OPT], query, src)]\n",
    "        longitud_optima = get_longitud_optima(idrc)\n",
    "\n",
    "        geom = map(lambda x: (x[0], x[1]), geom)\n",
    "\n",
    "        combinaciones = list(combinations(geom, 2))\n",
    "\n",
    "        primer_filtro = filter(lambda i: i, map(evaluador, combinaciones))\n",
    "        \n",
    "        for i in primer_filtro:\n",
    "            ini, fin, dist = i\n",
    "            aceptados.append(i)\n",
    "            buscar_optimos(ini, fin, dist)\n",
    "            soluciones.append(aceptados[:])\n",
    "            aceptados = list()\n",
    "        \n",
    "        # Se obtiene la desviacion estandar de cada solucion en una lista, junto al index\n",
    "        std_distancia = map(lambda i: [soluciones.index(i), np.std(map(lambda x:x[-1], i))], soluciones)\n",
    "        \n",
    "        # Se ordena de menor a mayor en base a la desviacion estandar\n",
    "        std_distancia.sort(key=lambda i: i[-1], reverse=False)\n",
    "        \n",
    "        # Se obtiene el primer valor como solucion del proceso, ya que esto significa que la distancia\n",
    "        # entre estaciones es la mas homogene\n",
    "        solucion = soluciones[std_distancia[0][0]]\n",
    "        \n",
    "        # Se extraen los EHIDROID que pertenecen al index seleccionado\n",
    "        optimos_list = list(set([q for x in solucion for q in x[:2]]))\n",
    "\n",
    "        for i in optimos_list:\n",
    "            result.append({_EHIDROID: i, 'OPT': 1})\n",
    "            \n",
    "        return {_IDRC: idrc, 'msg': 'success'}\n",
    "    except Exception as e:\n",
    "        return {_IDRC: idrc, 'msg': e.message.__str__()}\n",
    "    finally:\n",
    "        primer_filtro = list()\n",
    "        soluciones = list()"
   ]
  },
  {
   "cell_type": "markdown",
   "metadata": {},
   "source": [
    "Ejecutando el proceso masivo"
   ]
  },
  {
   "cell_type": "code",
   "execution_count": null,
   "metadata": {
    "scrolled": false
   },
   "outputs": [
    {
     "name": "stdout",
     "output_type": "stream",
     "text": [
      "Evaluando: 000499410A\n"
     ]
    },
    {
     "name": "stderr",
     "output_type": "stream",
     "text": [
      "c:\\python27\\arcgis10.5\\lib\\site-packages\\ipykernel_launcher.py:91: DeprecationWarning: BaseException.message has been deprecated as of Python 2.6\n"
     ]
    },
    {
     "name": "stdout",
     "output_type": "stream",
     "text": [
      "Evaluando: 001375608P\n",
      "Evaluando: 000498107A\n",
      "Evaluando: 013753406P\n",
      "Evaluando: 004979405A\n"
     ]
    }
   ],
   "source": [
    "logs = map(get_estaciones_optimas, all_idrc[:10])"
   ]
  },
  {
   "cell_type": "markdown",
   "metadata": {},
   "source": [
    "Exportando archivos excel de estaciones hidrometricas optimas y logs de procesamiento"
   ]
  },
  {
   "cell_type": "code",
   "execution_count": null,
   "metadata": {
    "scrolled": false
   },
   "outputs": [],
   "source": [
    "df_optimos = pd.DataFrame(result)\n",
    "display(df_optimos)\n",
    "df_optimos.to_excel('estaciones_hidrometricas_optimas.xls')\n",
    "\n",
    "df_logs = pd.DataFrame(logs)\n",
    "display(df_logs)\n",
    "df_logs.to_excel('logs.xls')\n",
    "result= list() "
   ]
  }
 ],
 "metadata": {
  "kernelspec": {
   "display_name": "Python 2",
   "language": "python",
   "name": "python2"
  },
  "language_info": {
   "codemirror_mode": {
    "name": "ipython",
    "version": 2
   },
   "file_extension": ".py",
   "mimetype": "text/x-python",
   "name": "python",
   "nbconvert_exporter": "python",
   "pygments_lexer": "ipython2",
   "version": "2.7.12"
  }
 },
 "nbformat": 4,
 "nbformat_minor": 2
}
